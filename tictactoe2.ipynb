{
 "cells": [
  {
   "cell_type": "code",
   "execution_count": 41,
   "id": "bd1154e3",
   "metadata": {},
   "outputs": [],
   "source": [
    "def display_board(board):\n",
    "    list1 = [board[7],board[8],board[9]]\n",
    "    list2 = [board[4],board[5],board[6]]\n",
    "    list3 = [board[1],board[2],board[3]]\n",
    "    print(f'{board[7]}  |  {board[8]}  |  {board[9]}')\n",
    "    print(f'---|-----|---')\n",
    "    print(f'{board[4]}  |  {board[5]}  |  {board[6]}')\n",
    "    print(f'---|-----|---')\n",
    "    print(f'{board[1]}  |  {board[2]}  |  {board[3]}')"
   ]
  },
  {
   "cell_type": "code",
   "execution_count": 42,
   "id": "981c1e3c",
   "metadata": {},
   "outputs": [],
   "source": [
    "board = [0,' ',' ',' ',' ',' ',' ',' ',' ',' ']"
   ]
  },
  {
   "cell_type": "code",
   "execution_count": 43,
   "id": "9c75fc38",
   "metadata": {},
   "outputs": [],
   "source": [
    "def choice():\n",
    "    choice = input('PLAYER1 CHOOSE YOUR SIDE: ')\n",
    "    if choice == 'X' or choice == 'O':\n",
    "        return choice\n",
    "    else:\n",
    "        while choice != 'X' and choice != 'O':\n",
    "            choice = input('PLAYER1 CHOOSE YOUR SIDE: ')\n",
    "            if choice == 'X' or choice == 'O':\n",
    "                break\n",
    "        return choice\n"
   ]
  },
  {
   "cell_type": "code",
   "execution_count": 44,
   "id": "ec16cd96",
   "metadata": {},
   "outputs": [],
   "source": [
    "def game_winner():\n",
    "    if(board[1] == board[2] == board[3] == 'X' or board[1] == board[2] == board[3] == 'O'):\n",
    "        return True\n",
    "    elif(board[4] == board[5] == board[6] == 'X' or board[4] == board[5] == board[6] == 'O'):\n",
    "        return True\n",
    "    elif(board[7] == board[8] == board[9] == 'X' or board[7] == board[8] == board[9] == 'O'):\n",
    "        return True\n",
    "    elif(board[1] == board[4] == board[7] == 'X' or board[1] == board[4] == board[7] == 'O'):\n",
    "        return True\n",
    "    elif(board[2] == board[5] == board[8] == 'X' or board[2] == board[5] == board[8] == 'O'):\n",
    "        return True\n",
    "    elif(board[3] == board[6] == board[9] == 'X' or board[3] == board[6] == board[9] == 'O'):\n",
    "        return True\n",
    "    elif(board[1] == board[5] == board[9] == 'X' or board[1] == board[5] == board[9] == 'O'):\n",
    "        return True\n",
    "    elif(board[3] == board[5] == board[7] == 'X' or board[3] == board[5] == board[7] == 'O'):\n",
    "        return True\n",
    "    else:\n",
    "        return False\n",
    "        \n",
    "    "
   ]
  },
  {
   "cell_type": "code",
   "execution_count": 45,
   "id": "eb9acaca",
   "metadata": {},
   "outputs": [],
   "source": [
    "def position_choose_p1():\n",
    "    pos1 = int(input('PLAYER1 CHOOSE A POSITION: '))\n",
    "    return pos1\n",
    "def position_choose_p2():\n",
    "    pos2 = int(input('PLAYER2 CHOOSE A POSITION: '))\n",
    "    return pos2\n",
    "    "
   ]
  },
  {
   "cell_type": "code",
   "execution_count": 46,
   "id": "cbda8478",
   "metadata": {},
   "outputs": [
    {
     "name": "stdout",
     "output_type": "stream",
     "text": [
      "PLAYER1 CHOOSE YOUR SIDE: O\n",
      "PLAYER1 CHOOSE A POSITION: 5\n",
      "   |     |   \n",
      "---|-----|---\n",
      "   |  O  |   \n",
      "---|-----|---\n",
      "   |     |   \n",
      "PLAYER2 CHOOSE A POSITION: 1\n",
      "   |     |   \n",
      "---|-----|---\n",
      "   |  O  |   \n",
      "---|-----|---\n",
      "X  |     |   \n",
      "PLAYER1 CHOOSE A POSITION: 7\n",
      "O  |     |   \n",
      "---|-----|---\n",
      "   |  O  |   \n",
      "---|-----|---\n",
      "X  |     |   \n",
      "PLAYER2 CHOOSE A POSITION: 2\n",
      "O  |     |   \n",
      "---|-----|---\n",
      "   |  O  |   \n",
      "---|-----|---\n",
      "X  |  X  |   \n",
      "PLAYER1 CHOOSE A POSITION: 8\n",
      "O  |  O  |   \n",
      "---|-----|---\n",
      "   |  O  |   \n",
      "---|-----|---\n",
      "X  |  X  |   \n",
      "PLAYER2 CHOOSE A POSITION: 3\n",
      "O  |  O  |   \n",
      "---|-----|---\n",
      "   |  O  |   \n",
      "---|-----|---\n",
      "X  |  X  |  X\n",
      "PLAYER2 WINS\n"
     ]
    }
   ],
   "source": [
    "remaining = [1,2,3,4,5,6,7,8,9]\n",
    "\n",
    "p1 = choice()\n",
    "if p1 == 'X':\n",
    "    p2 = 'O'\n",
    "else:\n",
    "    p2 = 'X'\n",
    "while len(remaining) != 0:\n",
    "    x1 = position_choose_p1()\n",
    "    remaining.remove(x1)\n",
    "    board[x1] = p1\n",
    "    display_board(board)\n",
    "    if(game_winner() == True):\n",
    "        print('PLAYER1 WINS')\n",
    "        break\n",
    "    \n",
    "    x2 = position_choose_p2()\n",
    "    remaining.remove(x2)\n",
    "    board[x2] = p2\n",
    "    display_board(board)\n",
    "    if(game_winner() == True):\n",
    "        print('PLAYER2 WINS')\n",
    "        break\n",
    "    \n"
   ]
  },
  {
   "cell_type": "code",
   "execution_count": null,
   "id": "beb1b495",
   "metadata": {},
   "outputs": [],
   "source": []
  },
  {
   "cell_type": "code",
   "execution_count": null,
   "id": "3bac1e25",
   "metadata": {},
   "outputs": [],
   "source": []
  },
  {
   "cell_type": "code",
   "execution_count": null,
   "id": "afe7fcfc",
   "metadata": {},
   "outputs": [],
   "source": []
  }
 ],
 "metadata": {
  "kernelspec": {
   "display_name": "Python 3 (ipykernel)",
   "language": "python",
   "name": "python3"
  },
  "language_info": {
   "codemirror_mode": {
    "name": "ipython",
    "version": 3
   },
   "file_extension": ".py",
   "mimetype": "text/x-python",
   "name": "python",
   "nbconvert_exporter": "python",
   "pygments_lexer": "ipython3",
   "version": "3.9.7"
  }
 },
 "nbformat": 4,
 "nbformat_minor": 5
}
